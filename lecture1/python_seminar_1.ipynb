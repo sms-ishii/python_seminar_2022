{
  "nbformat": 4,
  "nbformat_minor": 0,
  "metadata": {
    "colab": {
      "provenance": [],
      "collapsed_sections": [
        "S1--V-mOwFUl",
        "SWUrZkjx2-zR",
        "l6wksDF93YhF",
        "4JRxet664SgI",
        "47JCxl_GG7tH",
        "tG1H-AVdIZUa",
        "Le7Jhw3AOnFC",
        "ifgZNNuYSk7f",
        "94WRW4aR5jTh",
        "g6Nxi-vTInFn",
        "G0BW2d-8PeC1",
        "gkiqzudEVs4P"
      ],
      "toc_visible": true
    },
    "kernelspec": {
      "name": "python3",
      "display_name": "Python 3"
    },
    "language_info": {
      "name": "python"
    }
  },
  "cells": [
    {
      "cell_type": "markdown",
      "source": [
        "# はじめに\n",
        "## 本講座の目標\n",
        "本講座は、Python初学者が次の3つをマスターできることを目標とした講座です。\n",
        "\n",
        "1. ファイルの読み取り方\n",
        "1. 代表的なデータ成形・加工の方法(構造化)\n",
        "1. 可視化の方法・保存(出力)\n",
        "\n",
        "## こんなことができます\n",
        "本講座の内容を習得すると、例として次のようなプログラムを作成・実行することができるようになります。\n",
        "\n",
        "\n",
        "★図を入れる★\n",
        "\n",
        "- CSVファイルを読み込みます。\n",
        "- CSVファイルから読み込んだデータのうち、欠損値を含む行を取り除きます。\n",
        "- データをグラフで出力します。\n",
        "\n",
        "まずは、実際にプログラムを動かしてみましょう。\n",
        "\n",
        "まだプログラムの具体的な内容を理解する必要はありません。このような短いプログラムを記述するだけで、データの加工やグラフ出力ができる、というイメージをつかんでいただければ十分です。\n",
        "\n",
        "以下に、プログラムのソースコードが記述されています。ソースコードとは、プログラムで行いたい処理をプログラミング言語(今回はPython)で記述したものです。"
      ],
      "metadata": {
        "id": "9a2fVTUU9-3O"
      }
    },
    {
      "cell_type": "code",
      "source": [
        "#---------------------------------------\n",
        "# ソースコード\n",
        "# スペクトルデータのグラフを作成\n",
        "#---------------------------------------\n",
        "import pandas as pd\n",
        "import numpy as np\n",
        "import matplotlib.pyplot as plt\n",
        "\n",
        "# Googleドライブからファイルを読み込むための処理\n",
        "from google.colab import drive\n",
        "drive.mount(\"/content/drive\", force_remount=True)\n",
        "\n",
        "# CSVファイルからデータを読み込み\n",
        "df = pd.read_csv(\"/content/drive/MyDrive/Colab Notebooks/python_seminar_1/sample_1_01.csv\")\n",
        "\n",
        "# 欠損値を含む行を削除\n",
        "df = df.dropna()\n",
        "\n",
        "# 折れ線グラフをプロット\n",
        "xlist = df[df.keys()[0]]\n",
        "ylist = df[df.keys()[1]]\n",
        "plt.plot(xlist, ylist)\n",
        "\n",
        "# グラフタイトル・軸ラベルの設定\n",
        "plt.title(\"Spectrum\")\n",
        "plt.xlabel(\"Wavelength\")\n",
        "plt.ylabel(\"Intensity\")\n",
        "\n",
        "# 完成したグラフを画面に描画\n",
        "plt.show()"
      ],
      "metadata": {
        "id": "OZbw8VcA-sDb"
      },
      "execution_count": null,
      "outputs": []
    },
    {
      "cell_type": "markdown",
      "source": [
        "プログラムを実行するには、ソースコードの任意の場所をクリックした後、次のどちらかの操作を行います。\n",
        "\n",
        "- ソースコード左上の実行ボタンを押す\n",
        "- Ctrl+Enterを押す\n",
        "\n",
        "最初にプログラムを実行するときは、少し時間がかかります。しばらく待つと、プログラムが実行された結果、グラフが表示されます。\n",
        "\n",
        "# Pythonの実行環境・エディタの紹介\n",
        "Pythonのプログラムを実行するには、エディタでソースコードを作成し、実行環境がソースコードに従ってプログラムを実行します。\n",
        "\n",
        "ここでは、代表的なPython実行環境とエディタをご紹介します。\n",
        "\n",
        "## 実行環境\n",
        "代表的なPythonの実行環境として、公式版PythonとAnacondaがあります。\n",
        "\n",
        "### 公式版Python\n",
        "- 公式に配布されているPython実行環境です。\n",
        "- 自分で必要なパッケージやツールだけをインストールして使いたい場合は、公式版Pythonを利用します。\n",
        "\n",
        "### Anaconda\n",
        "- 公式版Pythonに加え、データサイエンスをはじめとしたさまざまな分野でよく利用されるパッケージやツールを同梱して配布されている実行環境です。\n",
        "- パッケージやツールを自分でインストールする手間を軽減したい場合は、Anacondaを利用します。\n",
        "\n",
        "## エディタ\n",
        "Pythonプログラムのソースコードを作成するための、代表的なエディタについてご紹介します。\n",
        "\n",
        "### Visual Studio Code\n",
        "- Visual Studio Code(VSCode)は、Microsoft社が開発しているエディタです。\n",
        "- あらかじめ実行環境をPCにインストールしておけば、Visual Studio Codeの画面上でプログラムを実行することもできます。\n",
        "- 複数のソースコードをまとめて管理したり、プログラムの不具合を調査する便利な機能を持っています。そのため、大規模なプログラム開発ではVisual Studio Codeがおすすめです。\n",
        "\n",
        "![VS Code](https://github.com/tendo-sms/python_seminar_2022/raw/main/lecture1/figure/vscode_ss.png)\n",
        "\n",
        "### Jupyter Notebook\n",
        "- Jupyter Notebookは、Webブラウザ上で動作するエディタ＋実行環境です。対話型のインタフェースで、Pythonプログラムのソースコード作成し、その場ですぐに実行まで行うことができます。\n",
        "- あらかじめ、実行環境をインストールしておく必要があります。\n",
        "  - 公式版Pythonをインストールした場合、続けてJupyter Notebookのインストールを行います。\n",
        "  - Anacondaをインストールした場合、Jupyter Notebookが同梱されているため、すぐに利用開始できます。\n",
        "\n",
        "![Jupyter Notebook](https://github.com/tendo-sms/python_seminar_2022/raw/main/lecture1/figure/jupyter_ss.png)\n",
        "\n",
        "### Google Colaboratory\n",
        "- Jupyter Notebookをベースに、Googleが開発したエディタ＋実行環境です。\n",
        "- ソースコードの作成および実行の機能は、Jupyter Notebookとほぼ同じです。\n",
        "- ソースコードだけでなく、説明テキストなどを同時に記述できます。\n",
        "- 実行環境をPCにインストールする必要がありません。\n",
        "\n",
        "![Google Colaboratory](https://github.com/tendo-sms/python_seminar_2022/raw/main/lecture1/figure/colab_ss.png)\n",
        "\n",
        "本講座では、Google Colaboratoryを使用しています。\n",
        "\n",
        "# プログラムを動かしてみよう\n",
        "## 文字列を出力する\n",
        "- コードセルにprint関数という命令が記述されています。print関数は、指定された文字列や数値などを画面に出力する命令です。\n",
        "- ここでは、\"Hello, world.\"という文字列を指定しています。Pythonでは、文字列を\"(ダブルクォート)または'(シングルクォート)で囲むルールになっています。\n",
        "- コードセル左側の実行ボタンをクリックして、プログラムを実行してみましょう。\"(ダブルクォート)で囲まれた文字列が画面に出力されます。\n",
        "- \"Hello world.\"という文字列を他の文字列に書き換えて、もう一度実行してみましょう。日本語の文字列を出力することもできます。\n"
      ],
      "metadata": {
        "id": "tImtiVf4n7Dm"
      }
    },
    {
      "cell_type": "code",
      "source": [
        "print(\"Hello, world.\")"
      ],
      "metadata": {
        "id": "9rL6G8HBi-jl",
        "colab": {
          "base_uri": "https://localhost:8080/"
        },
        "outputId": "521e08ec-8848-4c7d-c3cf-0efe8bb9a5bc"
      },
      "execution_count": 33,
      "outputs": [
        {
          "output_type": "execute_result",
          "data": {
            "text/plain": [
              "str"
            ]
          },
          "metadata": {},
          "execution_count": 33
        }
      ]
    },
    {
      "cell_type": "markdown",
      "source": [
        "## 文字列の長さを求める\n",
        "- 先ほどのプログラムと異なり、\"Hello world.\"の文字列がlen関数という命令で囲まれています。len関数は、文字列などのデータの長さを求める命令です。\n",
        "- コードセル左側の実行ボタンをクリックして、プログラムを実行してみましょう。文字列\"Hello world.\"の文字数が、画面に出力されます。\n",
        "- \"Hellow world.\"という文字列を他の文字列に書き換えて、もう一度実行してみましょう。"
      ],
      "metadata": {
        "id": "AiYv0xkai5le"
      }
    },
    {
      "cell_type": "code",
      "source": [
        "print(len(\"Hello, world.\"))"
      ],
      "metadata": {
        "id": "SlIvlExGuo04"
      },
      "execution_count": null,
      "outputs": []
    },
    {
      "cell_type": "markdown",
      "source": [
        "## 変数を使用する\n",
        "- 変数は、文字列や数値などの値を格納する入れ物のようなものです。「変数名 = 変数の値」と記述すると、変数に値が格納されます。\n",
        "- 先ほどのprint関数に変数を指定すると、変数の値が画面に出力されます。\n",
        "- 変数名は、大文字と小文字を区別します。変数名「AAA」と「aaa」は、別の変数として扱われます。\n",
        "- コードセル左側の実行ボタンをクリックして、プログラムを実行してみましょう。変数に格納された文字列や数値が画面に出力されます。"
      ],
      "metadata": {
        "id": "h_Jb-C5hu32L"
      }
    },
    {
      "cell_type": "code",
      "source": [
        "AAA = \"Hello, world.\"\n",
        "aaa = 10\n",
        "\n",
        "print(AAA)\n",
        "print(aaa)"
      ],
      "metadata": {
        "id": "WI4ANqAIvqZG"
      },
      "execution_count": null,
      "outputs": []
    },
    {
      "cell_type": "markdown",
      "source": [
        "# コメントを記述する\n",
        "- プログラムには、コメントを記述することができます。コメントはプログラムを読みやすくするための記述であり、プログラムの動作には何の影響も与えません。\n",
        "- #で開始する行は、コメントとなります。複数行のコメントを記述したい場合は、それぞれの行の先頭に#を記述する必要があります。\n",
        "- プログラムを見た人が内容を理解しやすいよう、積極的にコメントを書くことを心がけましょう。"
      ],
      "metadata": {
        "id": "S1--V-mOwFUl"
      }
    },
    {
      "cell_type": "code",
      "source": [
        "# 変数に文字列を格納する\n",
        "AAA = \"Hello, world.\"\n",
        "\n",
        "# 変数に数値を格納する\n",
        "aaa = 10\n",
        "\n",
        "# 変数の値を画面に出力する\n",
        "# 変数名の大文字と小文字は区別されることに注意する\n",
        "print(AAA)\n",
        "print(aaa)"
      ],
      "metadata": {
        "id": "B47HO2NFwXVD"
      },
      "execution_count": null,
      "outputs": []
    },
    {
      "cell_type": "markdown",
      "source": [
        "- コメントには、#で開始するコメントのほかに、ドットストリングというコメントも\n",
        "存在します。\n",
        "- ドットストリングでは、\"\"\"(ダブルクォート3つ)で囲まれた記述がコメントとなります。\n",
        "- #で開始するコメントとは異なり、途中で改行することもできます。\n",
        "- ドットストリングは、後述する関数などを定義する際に、その仕様や使用方法を記述するのに使用します。\n",
        "- ここでは、コメントにはドックストリングという形式もある、ということを覚えていただければ十分です。まずは、#で開始するコメントを記述することを心がけましょう。"
      ],
      "metadata": {
        "id": "yBbTItgMxDsD"
      }
    },
    {
      "cell_type": "code",
      "source": [
        "def remainder(v1, v2):\n",
        "    '''割り算の余りを求める関数です\n",
        "    Argments:\n",
        "      v1 (int, float): 数値\n",
        "      v2 (int, float): 数値\n",
        "    Returns:\n",
        "      rem (int, float): 余り\n",
        "    '''\n",
        "    rem = v1 % v2\n",
        "    return rem"
      ],
      "metadata": {
        "id": "jYI1UAyAy8o_"
      },
      "execution_count": null,
      "outputs": []
    },
    {
      "cell_type": "markdown",
      "source": [
        "# 代表的なデータ型\n",
        "- Pythonで扱うデータには、データの種類を示す「型(type)」という概念があります。\n",
        "- type関数を使って、データの型が何であるかを確認することができます。\n",
        "\n",
        "## 基本的なデータ型\n",
        "### 文字列(str)\n",
        "- \"(ダブルクォート)または'(シングルクォート)で囲まれた値は、文字列となります。\n",
        "- 次のプログラムを実行して、データの型を確認しましょう。"
      ],
      "metadata": {
        "id": "4BPqt8PI1ID0"
      }
    },
    {
      "cell_type": "code",
      "source": [
        "# 文字列型の値を変数に格納する\n",
        "str_value = \"Hello, world.\"\n",
        "\n",
        "# 変数の値の型を確認する\n",
        "print(type(str_value))"
      ],
      "metadata": {
        "id": "KM-3VSZH2GnQ"
      },
      "execution_count": null,
      "outputs": []
    },
    {
      "cell_type": "markdown",
      "source": [
        "### 整数(int)\n",
        "- 整数を値として使用できます。\n",
        "- 次のプログラムを実行して、データの型を確認しましょう。"
      ],
      "metadata": {
        "id": "SWUrZkjx2-zR"
      }
    },
    {
      "cell_type": "code",
      "source": [
        "# 整数型の値を変数に格納する\n",
        "int_value = 10\n",
        "\n",
        "# 変数の値の型を確認する\n",
        "print(type(int_value))"
      ],
      "metadata": {
        "id": "KqhVtQBw3RIR"
      },
      "execution_count": null,
      "outputs": []
    },
    {
      "cell_type": "markdown",
      "source": [
        "### 浮動小数点数(float)\n",
        "- 浮動小数点数を値として使用できます。\n",
        "- 次のプログラムを実行して、データの型を確認しましょう。"
      ],
      "metadata": {
        "id": "l6wksDF93YhF"
      }
    },
    {
      "cell_type": "code",
      "source": [
        "# 浮動小数点数型の値を変数に格納する\n",
        "float_value = 3.14\n",
        "\n",
        "# 変数の値の型を確認する\n",
        "print(type(float_value))"
      ],
      "metadata": {
        "id": "5etvfDD63j97"
      },
      "execution_count": null,
      "outputs": []
    },
    {
      "cell_type": "markdown",
      "source": [
        "### 論理値(bool)\n",
        "- 論理値としてTrueまたはFalseのいずれかを値として使用できます。先頭のT、Fのみ大文字とする点に注意してください。\n",
        "- 次のプログラムを実行して、データの型を確認しましょう。"
      ],
      "metadata": {
        "id": "4JRxet664SgI"
      }
    },
    {
      "cell_type": "code",
      "source": [
        "# 論理値型の値を変数に格納する\n",
        "bool_value = True\n",
        "\n",
        "# 変数の値の型を確認する\n",
        "print(type(bool_value))"
      ],
      "metadata": {
        "id": "zfH-wv_J4poU"
      },
      "execution_count": null,
      "outputs": []
    },
    {
      "cell_type": "markdown",
      "source": [
        "## 複数の値からなるデータ型\n",
        "### リスト(list)\n",
        "- 複数の値を一つのデータとして扱うことができます。\n",
        "- リストは、[値1, 値2,　値3, ・・・]という形式で表現します。\n",
        "- リストに含まれる値には順序があります。\n",
        "- 値の重複を許可します。\n"
      ],
      "metadata": {
        "id": "rF4h0bYFB_8F"
      }
    },
    {
      "cell_type": "code",
      "source": [
        "# リストを作成する。値の重複を許可する\n",
        "num_list = [1, 3, 5, 5, 7]\n",
        "\n",
        "# リストの内容を画面に出力する\n",
        "print(num_list)\n",
        "\n",
        "# データ型を確認する\n",
        "print(type(num_list))"
      ],
      "metadata": {
        "id": "CIKcNV2q-Ssf"
      },
      "execution_count": null,
      "outputs": []
    },
    {
      "cell_type": "markdown",
      "source": [
        "- リストに含まれる値は、任意のデータ型とすることができます。\n",
        "- リストを値として持つリスト(入れ子のリスト)とすることもできます。\n",
        "- 1つのリスト内に、複数のデータ型を混在させることもできますが、一般的にはすべて同じデータ型とすることが多いです。"
      ],
      "metadata": {
        "id": "fbUbL0HX_eDz"
      }
    },
    {
      "cell_type": "code",
      "source": [
        "# 文字列型のリスト\n",
        "str_list = [\"Tokyo\", \"Osaka\", \"Nagoya\"]\n",
        "print(str_list)\n",
        "\n",
        "# リストのリスト(入れ子のリスト)\n",
        "list_list = [[1, 3], [5, 5, 7]]\n",
        "print(list_list)\n",
        "\n",
        "# 複数のデータ型が混在したリスト(あまり使われない)\n",
        "multi_list = [10, \"Tokyo\", True, [1, 3]]\n",
        "print(multi_list)"
      ],
      "metadata": {
        "id": "VzGgcnFq_5bP"
      },
      "execution_count": null,
      "outputs": []
    },
    {
      "cell_type": "markdown",
      "source": [
        "- len関数にリストを指定すると、リストの値の数を取得することができます。"
      ],
      "metadata": {
        "id": "ff9hNTogBC8x"
      }
    },
    {
      "cell_type": "code",
      "source": [
        "# 値の数が3個のリスト\n",
        "str_list = [\"Tokyo\", \"Osaka\", \"Nagoya\"]\n",
        "\n",
        "# 値の個数を画面に出力する。\n",
        "print(len(str_list))"
      ],
      "metadata": {
        "id": "vox7rHnfBH2i"
      },
      "execution_count": null,
      "outputs": []
    },
    {
      "cell_type": "markdown",
      "source": [
        "- リストのうち特定の1つの要素を取得する場合、リストに続く[]の中に、何番目の要素を取得するかを示す整数を記述します。\n",
        "- 何番目の要素化を示す整数は、0から始まる点に注意が必要です。\n",
        "- マイナスの整数を指定すると、「後ろから何番目」という意味になります。"
      ],
      "metadata": {
        "id": "z5ccfZBJC_B8"
      }
    },
    {
      "cell_type": "code",
      "source": [
        "# リストを作成\n",
        "# 0番目が\"Tokyo\"、1番目が\"Osaka\"、2番目が\"Nagoya\"となる点に注意\n",
        "str_list = [\"Tokyo\", \"Osaka\", \"Nagoya\"]\n",
        "\n",
        "# 1番目の要素を取得する\n",
        "print(str_list[1])\n",
        "\n",
        "# 後ろから2番目の要素を取得する\n",
        "# -3番目が\"Tokyo\"、-2番目が\"Osaka\"、-1番目が\"Nagoya\"となる\n",
        "print(str_list[-2])"
      ],
      "metadata": {
        "id": "JLBZLCc2DTbE"
      },
      "execution_count": null,
      "outputs": []
    },
    {
      "cell_type": "markdown",
      "source": [
        "- リストの要素を指定し、値を代入すると、リスト中の値を変更することができます。"
      ],
      "metadata": {
        "id": "MgYahVfiLbsh"
      }
    },
    {
      "cell_type": "code",
      "source": [
        "# リストを作成\n",
        "str_list = [\"Tokyo\", \"Osaka\", \"Nagoya\"]\n",
        "\n",
        "# リストの1番目の値を変更\n",
        "str_list[1] = \"Fukuoka\"\n",
        "\n",
        "# リストの値を画面に出力\n",
        "print(str_list)"
      ],
      "metadata": {
        "id": "dbIioXO2Lm3O"
      },
      "execution_count": null,
      "outputs": []
    },
    {
      "cell_type": "markdown",
      "source": [
        "- リストのうち一部分の要素を取得する場合、スライスにより値を取得します。\n",
        "- スライスは、リストに続く[]の中に開始点や終了点などを整数で指定します。\n",
        "  - リスト[X:Y]と指定すると、リストのX番目から(Y-1)番目までの要素を取得できます。\n",
        "  - リスト[X:]と指定すると、リストのX番目から最後までの要素を取得できます。\n",
        "  - リスト[:Y]と指定すると、リストの最初から(Y-1)番目までの要素を取得できます。\n",
        "  - リスト[X:Y:D]と指定すると、リストのX番目から(Y-1)番目までの要素をD個おきに取得できます。"
      ],
      "metadata": {
        "id": "0XIdc39OE1EX"
      }
    },
    {
      "cell_type": "code",
      "source": [
        "# リストを作成\n",
        "num_list = [0, 1, 2, 3, 4, 5, 6, 7]\n",
        "\n",
        "# リストの3番目から5番目までの値を取得\n",
        "# 5番目までの値を取得する場合は、終了点を6とする必要がある点に注意\n",
        "print(num_list[3:6])\n",
        "\n",
        "# リストの4番目から最後までの値を取得\n",
        "print(num_list[4:])\n",
        "\n",
        "# リストの最初から6番目までの値を取得\n",
        "# 6番目までの値を取得する場合は、終了点を7とする必要がある点に注意\n",
        "print(num_list[:7])\n",
        "\n",
        "# リストの1番目から5番目までの値を2個おきに取得\n",
        "# 5番目までの値を取得する場合は、終了点を6とする必要がある点に注意\n",
        "print(num_list[1:6:2])"
      ],
      "metadata": {
        "id": "ldvgZG_QJqMR"
      },
      "execution_count": null,
      "outputs": []
    },
    {
      "cell_type": "markdown",
      "source": [
        "- リストについては、第4回でも詳しく説明します。\n",
        "\n",
        "### タプル(tuple)\n",
        "- タプルはリストと似ていますが、次の点が異なります。\n",
        "  - タプル中の値は変更することができません(immutable)。\n",
        "  - リストを使用する場合と比較して、プログラムの実行速度が速くなります。\n",
        "  - 辞書(後述)のキーとしてリストを使用することはできませんが、タプルは使用することができます。\n",
        "- タプルは、(値1, 値2,　値3, ・・・)という形式で表現します。\n",
        "- その他の使い方は、リストと同様です。"
      ],
      "metadata": {
        "id": "750E4LhRNQEx"
      }
    },
    {
      "cell_type": "code",
      "source": [
        "# タプルを作成する。値の重複を許可する\n",
        "num_tuple = (0, 1, 2, 3, 4, 5, 6, 7)\n",
        "\n",
        "# タプルの内容を画面に出力する\n",
        "print(num_tuple)\n",
        "\n",
        "# データ型を確認する\n",
        "print(type(num_tuple))\n",
        "\n",
        "# 値の個数を画面に出力する。\n",
        "print(len(num_tuple))\n",
        "\n",
        "# 1番目の要素を取得する\n",
        "print(num_tuple[1])\n",
        "\n",
        "# スライスで一部の値を取得する\n",
        "print(num_tuple[3:6])"
      ],
      "metadata": {
        "id": "ux6A0ZCyPSxt"
      },
      "execution_count": null,
      "outputs": []
    },
    {
      "cell_type": "markdown",
      "source": [
        "### 辞書(dict)\n",
        "- 辞書はキー(key)と値(value)のペアを複数集めたデータです。\n",
        "- 辞書は、{キー1:値1, キー2:値2, キー3:値3, ・・・}という形式で表現します。\n",
        "- 辞書に続く[]の中にキーを指定すると、対応する値を取得できます。\n",
        "- キーには文字列以外に何種類かの型を使用できますが、一般的には文字列を使用します。\n",
        "- 値には任意の型を使用できます。\n",
        "- 辞書に含まれるキーと値のペアには、順序(何番目のペア、など)の概念はありません。\n",
        "- 値の重複を許可しますが、キーの重複は許可しません。"
      ],
      "metadata": {
        "id": "cxAiIbYUEBKV"
      }
    },
    {
      "cell_type": "code",
      "source": [
        "# 辞書を作成する\n",
        "mydict = {\"key1\": \"value1\", \"key2\": 10, \"key3\": [1, 2, 3]}\n",
        "\n",
        "# 辞書の内容を画面に出力する\n",
        "print(mydict)\n",
        "\n",
        "# キー\"key2\"に対応する値を取得する\n",
        "print(mydict[\"key2\"])\n",
        "\n",
        "# データ型を確認する\n",
        "print(type(mydict))"
      ],
      "metadata": {
        "id": "0A6mmVe065U3"
      },
      "execution_count": null,
      "outputs": []
    },
    {
      "cell_type": "markdown",
      "source": [
        "- リストについては、第4回でも詳しく説明します。\n",
        "\n",
        "### 集合(set)\n",
        "- 集合は値の集合を示すデータです。\n",
        "- 集合は、{値1, 値2, 値3, ・・・}という形式で表現します。"
      ],
      "metadata": {
        "id": "sU1G3Q-w_UV1"
      }
    },
    {
      "cell_type": "code",
      "source": [
        "# 集合を作成する\n",
        "num_set = {1, 3, 5, 7}\n",
        "\n",
        "# 集合の内容を画面に出力する\n",
        "print(num_set)\n",
        "\n",
        "# データ型を確認する\n",
        "print(type(num_set))"
      ],
      "metadata": {
        "id": "77SG8HUyBBYF"
      },
      "execution_count": null,
      "outputs": []
    },
    {
      "cell_type": "markdown",
      "source": [
        "# 代表的な演算子\n",
        "ここでは、よく使用する代表的な演算子を紹介します。\n",
        "\n",
        "## 算術演算子\n",
        "\n",
        "| 演算子 | 機能 |\n",
        "| --- | --- |\n",
        "| x + y | 加算 |\n",
        "| x - y | 減算 |\n",
        "| x * y | 乗算 |\n",
        "| x / y | 除算 |\n",
        "| x % y | xをyで割った余り |\n",
        "| x ** y | xのy乗 |"
      ],
      "metadata": {
        "id": "6SsitwyJEp4B"
      }
    },
    {
      "cell_type": "code",
      "source": [
        "# 加算\n",
        "a = 10\n",
        "b = 20\n",
        "print(a + b)\n",
        "\n",
        "# 余り\n",
        "print(5 % 3)\n",
        "\n",
        "# べき乗\n",
        "x = 4\n",
        "print(x ** 2)"
      ],
      "metadata": {
        "id": "NTw7HJ9XGjkq"
      },
      "execution_count": null,
      "outputs": []
    },
    {
      "cell_type": "markdown",
      "source": [
        "## 文字列演算子\n",
        "\n",
        "| 演算子 | 機能 |\n",
        "| --- | --- |\n",
        "| s + t | 文字列sと文字列tを連結 |\n",
        "| s * t | 文字列sをt回繰り返す |"
      ],
      "metadata": {
        "id": "47JCxl_GG7tH"
      }
    },
    {
      "cell_type": "code",
      "source": [
        "# 文字列の連結\n",
        "print(\"abc\" + \"def\")\n",
        "\n",
        "# 文字列の繰り返し\n",
        "print(\"abc\" * 3)"
      ],
      "metadata": {
        "id": "HmDli19BIKgI"
      },
      "execution_count": null,
      "outputs": []
    },
    {
      "cell_type": "markdown",
      "source": [
        "## 代入演算子\n",
        "\n",
        "| 演算子 | 機能 |\n",
        "| --- | --- |\n",
        "| x = n | xにnを代入 |\n",
        "| x += n | x = x + nと同じ |\n",
        "| x -= n | x = x - nと同じ |\n",
        "| x *= n | x = x * nと同じ |\n",
        "| x /= n | x = x / nと同じ |\n",
        "| x %= n | x = x % nと同じ |\n",
        "| x **= n | x = x ** nと同じ |"
      ],
      "metadata": {
        "id": "tG1H-AVdIZUa"
      }
    },
    {
      "cell_type": "code",
      "source": [
        "# =で代入\n",
        "x = 5\n",
        "\n",
        "# +=で代入\n",
        "# x = x + 10と同じ\n",
        "x += 10\n",
        "\n",
        "print(x)"
      ],
      "metadata": {
        "id": "X_auPd9POEJm"
      },
      "execution_count": null,
      "outputs": []
    },
    {
      "cell_type": "markdown",
      "source": [
        "## 比較演算子\n",
        "\n",
        "| 演算子 | 機能 |\n",
        "| --- | --- |\n",
        "| x == y | xがyと等しい |\n",
        "| x != y | xがyと異なる |\n",
        "| x < y | xがyよりも小さい |\n",
        "| x > y | xがyよりも大きい |\n",
        "| x <= y | xがy以下である |\n",
        "| x >= y | xがy以上である |\n",
        "| x is y | xがyと等しい |\n",
        "| x is not y | xがyと異なる |\n",
        "| x in y | xがyに含まれる |\n",
        "| x not in y | xがyに含まれない |\n",
        "\n",
        "\n",
        "- 比較演算子は、指定した条件が成り立つときに論理値のTrue、成り立たないときに論理値のFalseとなります。\n",
        "- 比較演算子の使用例は、後述の「代表的な制御構文」でご説明します。"
      ],
      "metadata": {
        "id": "Le7Jhw3AOnFC"
      }
    },
    {
      "cell_type": "code",
      "source": [
        "x = 10\n",
        "y = 20\n",
        "\n",
        "# xとyが等しいかどうか (=は2つであることに注意)\n",
        "print(x == y)\n",
        "print(x is y)\n",
        "\n",
        "# xとyが異なるかどうか\n",
        "print(x != y)\n",
        "print(x is not y)"
      ],
      "metadata": {
        "id": "ml5c83HNRzZg"
      },
      "execution_count": null,
      "outputs": []
    },
    {
      "cell_type": "markdown",
      "source": [
        "## ブール演算子\n",
        "\n",
        "| 演算子 | 機能 |\n",
        "| --- | --- |\n",
        "| x and y | xもyもTrueであればTrue |\n",
        "| x or y | xまたはyがTrueであればTrue |\n",
        "| not x | xがFalseであればTrue |\n",
        "\n",
        "- ブール演算子の使用例は、後述の「代表的な制御構文」でご説明します。\n",
        "\n",
        "# 代表的な制御構文\n",
        "## 条件により処理を変更する(if)\n",
        "- ifを使用すると、条件によってプログラムの処理を変更することができます。\n",
        "- 条件は、前述の「比較演算子」や「ブール演算子」などを用いて記述します。"
      ],
      "metadata": {
        "id": "ifgZNNuYSk7f"
      }
    },
    {
      "cell_type": "code",
      "source": [
        "x = 10\n",
        "y = 20\n",
        "\n",
        "# xとyが等しいときだけ\"xとyは等しいです\"という文字列を出力する\n",
        "if x == y:\n",
        "  # 次のprint関数はifの条件を満たしたときだけ実行されます\n",
        "  print(\"xとyは等しいです\")\n"
      ],
      "metadata": {
        "id": "V1JaEREjfFgt"
      },
      "execution_count": null,
      "outputs": []
    },
    {
      "cell_type": "markdown",
      "source": [
        "- 上記の「x = 10」を「x = 20」として、もう一度プログラムを実行してみましょう。\n",
        "- 上記のプログラムで、条件を満たしたときだけ実行するprint関数は、行頭に空白を空けて記述していることに注意してください。このように行頭に空白を入れて、制御文が有効な範囲を定めることを「インデント」と呼びます。\n",
        "- elseを使用すると、条件を満たしたときだけ動く処理に加え、条件を満たさなかったときだけ動く処理も同時に記述することができます。"
      ],
      "metadata": {
        "id": "Pt0ZrpcJfdfb"
      }
    },
    {
      "cell_type": "code",
      "source": [
        "x = 10\n",
        "y = 20\n",
        "\n",
        "# xとyが等しいときだけ\"xとyは等しいです\"という文字列を出力する\n",
        "# xとyが等しくないときだけ\"xとyは等しくないです\"という文字列を出力する\n",
        "if x == y:\n",
        "  # 次のprint関数はifの条件を満たしたときだけ実行されます\n",
        "  print(\"xとyは等しいです\")\n",
        "else:\n",
        "  # 次のprint関数はifの条件を満たさなかったときだけ実行されます\n",
        "  print(\"xとyは等しいくないです\")"
      ],
      "metadata": {
        "id": "A-2Ww1ny3cB-"
      },
      "execution_count": null,
      "outputs": []
    },
    {
      "cell_type": "markdown",
      "source": [
        "- elifを使用すると、条件1を満たしたときだけ処理1を実行、条件2を満たしたときだけ処理2を実行・・・といった記述ができます。\n",
        "- elifはいくつでも使用できます。"
      ],
      "metadata": {
        "id": "pCbrP0gS4H_m"
      }
    },
    {
      "cell_type": "code",
      "source": [
        "x = 10\n",
        "y = 20\n",
        "\n",
        "# xとyが等しいときだけ\"xとyは等しいです\"という文字列を出力する\n",
        "# xがyより大きいときだけ\"xはyより大きいです\"という文字列を出力する\n",
        "# xがyより小さいときだけ\"xはyより小さいです\"という文字列を出力する\n",
        "if x == y:\n",
        "  # 次のprint関数はifの条件を満たしたとき(x == y)だけ実行されます\n",
        "  print(\"xとyは等しいです\")\n",
        "elif x > y:\n",
        "  # 次のprint関数はelifの条件を満たしたとき(x > y)だけ実行されます\n",
        "  print(\"xはyより大きいです\")\n",
        "else:\n",
        "  # 次のprint関数はifおよびelifの条件を満たさなかったとき(x < y)だけ実行されます\n",
        "  print(\"xはyより小さいです\")"
      ],
      "metadata": {
        "id": "z1nwRgAM4U4y"
      },
      "execution_count": null,
      "outputs": []
    },
    {
      "cell_type": "markdown",
      "source": [
        "## 処理を繰り返す(for、range関数、リスト内包表記)\n",
        "- forを使用すると、任意の処理を複数回繰り返し実行することができます。"
      ],
      "metadata": {
        "id": "94WRW4aR5jTh"
      }
    },
    {
      "cell_type": "code",
      "source": [
        "str_list = [\"Tokyo\", \"Osaka\", \"Nagoya\"]\n",
        "\n",
        "# str_listの内容を一つずつ参照して処理を実行する\n",
        "for place in str_list:\n",
        "  # 変数placeにstr_listの中の値が一つずつ格納されて、順番にprint関数が実行される\n",
        "  print(place)"
      ],
      "metadata": {
        "id": "JNJPaeBz6EoI"
      },
      "execution_count": null,
      "outputs": []
    },
    {
      "cell_type": "markdown",
      "source": [
        "- forとともによく使われる関数として、数列のリストを生成するrange関数があります。\n",
        "  - range(N)と記述すると、0～(N-1)の数列を作成します。\n",
        "  - range(N:M)と記述すると、N～(M-1)の数列を作成します。\n",
        "  - range(N:M:D)と記述すると、N～(M-1)の範囲でDおきの数列を作成します。"
      ],
      "metadata": {
        "id": "6O34pg0R62W-"
      }
    },
    {
      "cell_type": "code",
      "source": [
        "# 0～5の数列を作成してforにより処理を繰り返し実行する\n",
        "print(\"seq 0-5\")\n",
        "for num in range(5):\n",
        "  print(num)\n",
        "\n",
        "# 5～9の数列を作成してforにより処理を繰り返し実行する\n",
        "print(\"seq 5-9\")\n",
        "for num in range(5, 10):\n",
        "  print(num)\n",
        "\n",
        "print(\"seq 5, 7, 9\")\n",
        "# 5～9の範囲で2おきの数列を作成してforにより処理を繰り返し実行する\n",
        "for num in range(5, 10, 2):\n",
        "  print(num)"
      ],
      "metadata": {
        "id": "BxC15PqZ7EOa"
      },
      "execution_count": null,
      "outputs": []
    },
    {
      "cell_type": "markdown",
      "source": [
        "- forの応用的な使い方として、リスト内包表記があります。\n",
        "- リスト内包表記は、特定のルールに従った新しいリストを作成するのに役立ちます。\n",
        "- リスト内包表記は、[ 式 for 変数 in 繰り返しの内容 ] と記述します。"
      ],
      "metadata": {
        "id": "8NMC5teX7tV4"
      }
    },
    {
      "cell_type": "code",
      "source": [
        "# 0～9それぞれを2乗した値のリストを作成します\n",
        "for_list = [ x ** 2 for x in range(10) ]\n",
        "\n",
        "# リストの内容を画面に出力します\n",
        "print(for_list)"
      ],
      "metadata": {
        "id": "C-8IU1YU9YkY"
      },
      "execution_count": null,
      "outputs": []
    },
    {
      "cell_type": "markdown",
      "source": [
        "# 文字列の操作\n",
        "## 文字列の分割(split、strip)\n",
        "- 区切り文字列での分割\n",
        "  - 文字列.split(区切り文字列) と記述すると、文字列を区切り文字で分割したリストを取得できます。区切り文字列を指定しない場合、連続した空白・タブ・改行で分割します。"
      ],
      "metadata": {
        "id": "g6Nxi-vTInFn"
      }
    },
    {
      "cell_type": "code",
      "source": [
        "# カンマ区切りの文字列を分割\n",
        "comma_str = \"aaa,bbb,ccc\"\n",
        "print(comma_str.split(\",\"))\n",
        "\n",
        "# 空白区切りの文字列を分割\n",
        "space_str = \"xxx yyy zzz\"\n",
        "print(space_str.split())"
      ],
      "metadata": {
        "id": "t7P1fFqKLerm"
      },
      "execution_count": null,
      "outputs": []
    },
    {
      "cell_type": "markdown",
      "source": [
        "- 先頭・末尾の文字列削除\n",
        "  - 文字列.strip(削除文字列) と記述すると、文字列の先頭および末尾から削除文字列をすべて削除します。削除文字列を指定しないと、空白・タブ・改行を削除します。\n",
        "  - 文字列.lstrip(削除文字列) と記述すると、文字列の先頭から削除文字列をすべて削除します。削除文字列を指定しないと、空白・タブ・改行を削除します。\n",
        "  - 文字列.rstrip(削除文字列) と記述すると、文字列の末尾から削除文字列をすべて削除します。削除文字列を指定しないと、空白・タブ・改行を削除します。"
      ],
      "metadata": {
        "id": "UXa10_hELfKp"
      }
    },
    {
      "cell_type": "code",
      "source": [
        "abc_str = \"abcxyzabc\"\n",
        "\n",
        "# 先頭および末尾の文字列を削除\n",
        "print(abc_str.strip(\"abc\"))\n",
        "\n",
        "# 先頭の文字列を削除\n",
        "print(abc_str.lstrip(\"abc\"))\n",
        "\n",
        "# 末尾の文字列を削除\n",
        "print(abc_str.rstrip(\"abc\"))\n",
        "\n",
        "space_str = \"   xyz   \"\n",
        "# 先頭および末尾の文字列を削除\n",
        "print(space_str.strip())\n",
        "\n",
        "# 先頭の文字列を削除\n",
        "print(space_str.lstrip())\n",
        "\n",
        "# 末尾の文字列を削除\n",
        "print(space_str.rstrip())"
      ],
      "metadata": {
        "id": "vzvdNMH1ORG-"
      },
      "execution_count": null,
      "outputs": []
    },
    {
      "cell_type": "markdown",
      "source": [
        "## 文字列の判定(in、not in、startwith、endwith)\n",
        "- inを使用すると、文字列全体の中に特定の文字列が含まれるかどうか判定できます。\n",
        "\n"
      ],
      "metadata": {
        "id": "G0BW2d-8PeC1"
      }
    },
    {
      "cell_type": "code",
      "source": [
        "in_str = \"abcdefg\"\n",
        "\n",
        "# inの結果がTrueとなるケース\n",
        "if \"def\" in in_str:\n",
        "  print(\"defが含まれています。(True)\")\n",
        "else:\n",
        "  print(\"defが含まれていません。(False)\")\n",
        "\n",
        "# inの結果がFalseとなるケース\n",
        "if \"xyz\" in in_str:\n",
        "  print(\"xyzが含まれています。(True)\")\n",
        "else:\n",
        "  print(\"xyzが含まれていません。(False)\")"
      ],
      "metadata": {
        "id": "ILalLaH1Px9K"
      },
      "execution_count": null,
      "outputs": []
    },
    {
      "cell_type": "markdown",
      "source": [
        "- not inを使用すると、文字列全体の中に特定の文字列が含まれないかどうか判定できます。"
      ],
      "metadata": {
        "id": "oBPvfyEDQYTC"
      }
    },
    {
      "cell_type": "code",
      "source": [
        "in_str = \"abcdefg\"\n",
        "\n",
        "# not inの結果がTrueとなるケース\n",
        "if \"xyz\" not in in_str:\n",
        "  print(\"xyzが含まれていません。(True)\")\n",
        "else:\n",
        "  print(\"xyzが含まれています。(False)\")\n",
        "\n",
        "# not inの結果がFalseとなるケース\n",
        "if \"def\" not in in_str:\n",
        "  print(\"defが含まれていません。(True)\")\n",
        "else:\n",
        "  print(\"defが含まれています。(False)\")"
      ],
      "metadata": {
        "id": "ZkZjl6-8QcRZ"
      },
      "execution_count": null,
      "outputs": []
    },
    {
      "cell_type": "markdown",
      "source": [
        "- startswithを使用すると、文字列全体が特定の文字列で開始するかどうか判定できます。"
      ],
      "metadata": {
        "id": "79oUJdZKRVyK"
      }
    },
    {
      "cell_type": "code",
      "source": [
        "startend_str = \"abcdef\"\n",
        "\n",
        "# startwithの結果がTrueとなるケース\n",
        "if startend_str.startswith(\"abc\"):\n",
        "  print(\"abcで開始します。(True)\")\n",
        "else:\n",
        "  print(\"abcで開始しません。(False)\")\n",
        "\n",
        "# startwithの結果がFalseとなるケース\n",
        "if startend_str.startswith(\"xyz\"):\n",
        "  print(\"xyzで開始します。(True)\")\n",
        "else:\n",
        "  print(\"xyzで開始しません。(False)\")"
      ],
      "metadata": {
        "id": "YGj6CjMHRfUf"
      },
      "execution_count": null,
      "outputs": []
    },
    {
      "cell_type": "markdown",
      "source": [
        "- endswithを使用すると、文字列全体が特定の文字列で終了するかどうか判定できます。"
      ],
      "metadata": {
        "id": "LBWKm4m4TevV"
      }
    },
    {
      "cell_type": "code",
      "source": [
        "startend_str = \"abcdef\"\n",
        "\n",
        "# endwithの結果がTrueとなるケース\n",
        "if startend_str.endswith(\"def\"):\n",
        "  print(\"defで終了します。(True)\")\n",
        "else:\n",
        "  print(\"defで終了しません。(False)\")\n",
        "\n",
        "# endwithの結果がFalseとなるケース\n",
        "if startend_str.endswith(\"xyz\"):\n",
        "  print(\"xyzで終了します。(True)\")\n",
        "else:\n",
        "  print(\"xyzで終了しません。(False)\")"
      ],
      "metadata": {
        "id": "-rB2tm9dTrgC"
      },
      "execution_count": null,
      "outputs": []
    },
    {
      "cell_type": "markdown",
      "source": [
        "## 文字列の検索(find、count)\n",
        "- findを使用すると、文字列全体で特定の文字列が何文字目に存在するかを取得できます。最初の文字は0であることに注意が必要です。"
      ],
      "metadata": {
        "id": "gkiqzudEVs4P"
      }
    },
    {
      "cell_type": "code",
      "source": [
        "abc_str = \"abcdefg\"\n",
        "\n",
        "# \"def\"が何文字目に存在するかを取得する\n",
        "# 0文字目から開始する点に注意\n",
        "print(abc_str.find(\"def\"))"
      ],
      "metadata": {
        "id": "ysgbnOP0eRHt"
      },
      "execution_count": null,
      "outputs": []
    },
    {
      "cell_type": "markdown",
      "source": [
        "- countを使用すると、文字列全体で特定の文字列が何回出現するかを取得できます。"
      ],
      "metadata": {
        "id": "46TKjZlwempp"
      }
    },
    {
      "cell_type": "code",
      "source": [
        "abc_str = \"abcdefgabcdefgabc\"\n",
        "\n",
        "# \"abc\"が何回出現するかを取得する\n",
        "print(abc_str.count(\"abc\"))"
      ],
      "metadata": {
        "id": "SJQlac6kewAu"
      },
      "execution_count": null,
      "outputs": []
    },
    {
      "cell_type": "markdown",
      "source": [
        "# 予約語\n",
        "- Pythonでは、あらかじめPython言語で予約された語句が存在します。このような語句を変数名や関数名として使用すると、プログラムが正しく動作しないことがあるため、注意が必要です。\n",
        "- 予約語の例\n",
        "  - if、forなど制御構文の名前\n",
        "  - print、len、strなど組み込み関数の名前\n",
        "- 上記以外にも、Pythonの機能として定められた語句が予約語となっています。"
      ],
      "metadata": {
        "id": "dxBREI9ne7cH"
      }
    },
    {
      "cell_type": "code",
      "source": [
        "# 予約語であるprintを変数名として使用\n",
        "rint = \"abc\"\n",
        "\n",
        "# print関数が使えなくなってしまう\n",
        "print(\"Hello, world.\")"
      ],
      "metadata": {
        "id": "TfmHqfQZgCZb"
      },
      "execution_count": null,
      "outputs": []
    },
    {
      "cell_type": "markdown",
      "source": [
        "# 関数とメソッド\n",
        "これまで見てきたプログラムは、記述したプログラムを上から下へ順に実行していくだけのものでした。"
      ],
      "metadata": {
        "id": "BCp2MYnmgURd"
      }
    }
  ]
}