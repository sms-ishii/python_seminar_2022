{
  "nbformat": 4,
  "nbformat_minor": 0,
  "metadata": {
    "colab": {
      "provenance": [],
      "collapsed_sections": [],
      "toc_visible": true
    },
    "kernelspec": {
      "name": "python3",
      "display_name": "Python 3"
    },
    "language_info": {
      "name": "python"
    }
  },
  "cells": [
    {
      "cell_type": "markdown",
      "source": [
        "# はじめに\n",
        "## 本講座の目標\n",
        "本講座は、Python初学者が次の3つをマスターできることを目標とした講座です。\n",
        "\n",
        "1. データの入力：　 ファイルの読み取り方\n",
        "1. データの構造化： データ成形・加工の方法\n",
        "1. データの出力：　 可視化の方法や保存\n",
        "\n",
        "これら3つのステップは、装置や計測方法が異なっていても、共通して行うデータ処理の流れですよね。Excelによるデータ処理でも、普段から行っている作業です。\n",
        "\n",
        "では、Pythonではどのように進めるのでしょうか？本講座は、この作業の流れを習得することを目的したカリキュラムです。\n",
        "\n",
        "またARIM事業では、各機器ごとにデータ構造化コードを作成していますが、実は、この3つのステップを組み入れたコードを各機器ごとに、その機器での利用形態や今後のデータ利活用にあわせて作っています。 \n",
        "\n",
        "## こんなことができます\n",
        "本講座の内容を習得すると、例として次のようなプログラムを作成・実行することができるようになります。\n",
        "\n",
        "- CSVファイルを読み込みます。\n",
        "- CSVファイルから読み込んだデータのうち、欠損値を含む行を取り除きます。\n",
        "- データをグラフで出力します。\n",
        "\n",
        "![こんなことができます](https://github.com/tendo-sms/python_seminar_2022/raw/main/lecture1/figure/sample_1_01_fig.png)\n",
        "\n",
        "まずは、実際にプログラムを動かしてみましょう。\n",
        "\n",
        "まだプログラムの具体的な内容を理解する必要はありません。このような短いプログラムを記述するだけで、データの加工やグラフ出力ができる、というイメージをつかんでいただければ十分です。\n",
        "\n",
        "以下に、プログラムのソースコードが記述されています。ソースコードとは、プログラムで行いたい処理をプログラミング言語(今回はPython)で記述したものです。\n",
        "\n",
        "プログラムを実行するには、ソースコードの任意の場所をクリックした後、次のどちらかの操作を行います。\n",
        "\n",
        "- ソースコード左上の実行ボタンを押す\n",
        "- Ctrl+Enterを押す"
      ],
      "metadata": {
        "id": "9a2fVTUU9-3O"
      }
    },
    {
      "cell_type": "code",
      "source": [
        "# ソースコード\n",
        "# スペクトルデータのグラフを作成\n",
        "#---------------------------------------\n",
        "import pandas as pd\n",
        "import matplotlib.pyplot as plt\n",
        "\n",
        "# CSVファイルからデータを読み込み\n",
        "# Google Colaboratoryではオンラインのファイルを読み込むが\n",
        "# 通常はローカルドライブのファイルを読み込む\n",
        "df = pd.read_csv(\"https://raw.githubusercontent.com/tendo-sms/python_seminar_2022/main/lecture1/sample_1_01.csv\")\n",
        "\n",
        "# 欠損値を含む行を削除\n",
        "df = df.dropna()\n",
        "\n",
        "# 折れ線グラフをプロット\n",
        "x = df['Wavelength']\n",
        "y = df['Intensity']\n",
        "\n",
        "plt.plot(x, y)\n",
        "\n",
        "# グラフタイトル・軸ラベルの設定\n",
        "plt.title(\"Spectrum\")\n",
        "plt.xlabel(\"Wavelength\")\n",
        "plt.ylabel(\"Intensity\")\n",
        "\n",
        "# 完成したグラフを画面に描画\n",
        "plt.show()"
      ],
      "metadata": {
        "id": "OZbw8VcA-sDb"
      },
      "execution_count": null,
      "outputs": []
    },
    {
      "cell_type": "markdown",
      "source": [
        "最初にプログラムを実行するときは、少し時間がかかることがあります。しばらく待つと、プログラムが実行された結果、グラフが表示されます。"
      ],
      "metadata": {
        "id": "tImtiVf4n7Dm"
      }
    },
    {
      "cell_type": "markdown",
      "source": [
        "# Pythonの実行環境・エディタの紹介\n",
        "Pythonのプログラムは、次の流れで実行します。\n",
        "\n",
        "1. エディタでソースコードを作成する。(Windowsのメモ帳や、LinuxのVim/Emacs等をイメージしてください)\n",
        "1. Python実行環境がソースコードに従ってプログラムを実行する。\n",
        "\n",
        "ここでは、代表的なPython実行環境とエディタをご紹介します。\n",
        "\n",
        "## Python実行環境\n",
        "代表的なPythonの実行環境として、公式版PythonとAnacondaがあります。\n",
        "\n",
        "### 公式版Python\n",
        "- 公式に配布されているPython実行環境です。\n",
        "- Pythonは、非常に多くのさまざまな機能が「<font color=\"red\">**パッケージ**</font>」という形で公開されています。公式版Pythonは必要最低限の構成で配布されているので、自分で必要なパッケージだけをインストールして使いたい場合は、公式版Pythonを利用します。\n",
        "\n",
        "### Anaconda\n",
        "- 公式版Pythonに加え、データサイエンスをはじめとした、さまざまな分野でよく利用されるパッケージを同梱して配布されている、人気の高いPython実行環境です。\n",
        "- パッケージやツールを自分でインストールする手間を軽減したい場合は、Anacondaを利用します。\n",
        "\n",
        "## エディタ\n",
        "Pythonプログラムのソースコードを作成するための、代表的なエディタについてご紹介します。\n",
        "\n",
        "### Visual Studio Code\n",
        "- Visual Studio Code(VSCode)は、Microsoftが開発しているエディタです。\n",
        "- ソースコードの作成に加え、あらかじめPython実行環境をPCにインストールしておけば、Visual Studio Codeの画面上でプログラムを実行することもできます。\n",
        "- 複数のソースコードをまとめて管理したり、プログラムの不具合を調査する便利な機能を持っています。そのため、大規模なプログラム開発ではVisual Studio Codeがおすすめです。\n",
        "\n",
        "![VS Code](https://github.com/tendo-sms/python_seminar_2022/raw/main/lecture1/figure/vscode_ss.png)\n",
        "\n",
        "### Jupyter Notebook\n",
        "- Jupyter Notebookは、Webブラウザ上で動作するエディタ＋Python実行環境です。Webブラウザ上で動作します。\n",
        "- 対話型のインタフェースで、Pythonプログラムのソースコード作成し、その場ですぐに実行まで行うことができます。\n",
        "- ソースコードだけでなく、説明テキストなどを同時に記述できます。\n",
        "- あらかじめ、Python実行環境をインストールしておく必要があります。\n",
        "  - 公式版Pythonをインストールした場合、続けてJupyter Notebookのインストールを行います。\n",
        "  - Anacondaをインストールした場合、Jupyter Notebookが同梱されているため、すぐに利用開始できます。\n",
        "\n",
        "![Jupyter Notebook](https://github.com/tendo-sms/python_seminar_2022/raw/main/lecture1/figure/jupyter_ss.png)\n",
        "\n",
        "- 後継のエディタとして、JupyterLabがあります。まだ利用者やWebでの情報はJupyter Notebookの方が多い印象ですが、今後はJupyterLabが主流になっていく可能性があります。\n",
        "\n",
        "【小ネタ】Jupyterの「py」は、Pythonの頭文字です。そのため、Jupyterの正しい読み方は「ジュパイター」だという意見もあります。しかし現実には、ほとんどの人が「ジュピター」と呼んでいるのが実態です。\n",
        "\n",
        "### Google Colaboratory\n",
        "- Jupyter Notebookをベースに、Googleが開発したエディタ＋実行環境です。\n",
        "- ソースコードの作成および実行、説明テキストの記述など、基本的な機能はJupyter Notebookとほぼ同じです。\n",
        "- Python実行環境・エディタをPCにインストールする必要がありません。GoogleアカウントとWebブラウザさえあれば、Pythonを実行できます。\n",
        "\n",
        "![Google Colaboratory](https://github.com/tendo-sms/python_seminar_2022/raw/main/lecture1/figure/colab_ss.png)\n",
        "\n",
        "本講座では、Google Colaboratoryを使用しています。"
      ],
      "metadata": {
        "id": "3RFtPAkmLrBx"
      }
    },
    {
      "cell_type": "markdown",
      "source": [
        "# プログラムを動かしてみよう\n",
        "ここから、いよいよPythonの基礎について学んでいきましょう。\n",
        "\n",
        "実際にソースコードを見ながら、プログラムがどのように動いているのかを見ていきます。\n",
        "\n",
        "## 文字列を出力する\n",
        "以下のソースコードは、画面に\"Hello, world.\"という文字列と、整数値の10を出力するプログラムです。\n",
        "\n",
        "- ソースコードに「<font color=\"red\">**print関数**</font>」という命令が記述されています。print関数はPythonにあらかじめ用意された命令であり、()内に指定された文字列や数値などを画面に出力します。\n",
        "- Pythonでは、文字列を\"(ダブルクォート)または'(シングルクォート)で囲むルールになっています。整数値などの場合は、囲む必要はありません。\n",
        "\n",
        "それでは実際に、プログラムを動かしてみましょう。"
      ],
      "metadata": {
        "id": "o7qUnoRpLvmu"
      }
    },
    {
      "cell_type": "code",
      "source": [
        "print(10)"
      ],
      "metadata": {
        "id": "9rL6G8HBi-jl"
      },
      "execution_count": null,
      "outputs": []
    },
    {
      "cell_type": "markdown",
      "source": [
        "- ここでご紹介したprint関数のように、Pythonではよく使用する便利な機能を「<font color=\"red\">**関数**</font>」という形で提供しています。関数については、第2回でさらに詳しくご説明します。\n",
        "\n",
        "【小ネタ】Pythonに限らず様々なプログラミング言語の入門書において、一番最初に学ぶプログラムが「画面に\"Hello, world.\"と表示する。」であることが多いです。ある意味、最も有名なソースコードと言えるかもしれません。\n",
        "\n",
        "## 変数を使用する\n",
        "次のソースコードで、AAAやaaaは「<font color=\"red\">**変数**</font>」と呼ばれるものです。変数は、文字列や数値などの値を格納する入れ物のようなものです。\n",
        "\n",
        "- 「変数名=値」と記述すると、変数に値が格納(代入)されます。=の前後に半角空白を入れても構いません。\n",
        "- print関数は、()に文字列や数値を直接指定するだけでなく、変数を指定することもできます。変数を指定すると、変数を格納された値が画面に出力されます。\n",
        "\n",
        "それでは実際に、プログラムを動かしてみましょう。"
      ],
      "metadata": {
        "id": "AiYv0xkai5le"
      }
    },
    {
      "cell_type": "code",
      "source": [
        "AAA = \"Hello, world.\"\n",
        "aaa = 10\n",
        "\n",
        "print(AAA)\n",
        "print(aaa)"
      ],
      "metadata": {
        "id": "SlIvlExGuo04"
      },
      "execution_count": null,
      "outputs": []
    },
    {
      "cell_type": "markdown",
      "source": [
        "- 変数名は、大文字と小文字が区別されることに注意が必要です。変数名「AAA」と「aaa」は、別の変数として扱われます。\n",
        "- 変数名には、英大文字、英小文字、数字、_(アンダーバー)を使用することができます。ただし、数字で始まる変数名は使用できません。様々な変数名の例を、次に示します。\n"
      ],
      "metadata": {
        "id": "h_Jb-C5hu32L"
      }
    },
    {
      "cell_type": "code",
      "source": [
        "Hello_World = \"Hello, world.\"\n",
        "number10 = 10\n",
        "_valueX = 123\n",
        "\n",
        "print(Hello_World)\n",
        "print(number10)\n",
        "print(_valueX)"
      ],
      "metadata": {
        "id": "T0QFbMnKiE9A"
      },
      "execution_count": null,
      "outputs": []
    },
    {
      "cell_type": "markdown",
      "source": [
        "## 文字列の長さを求める\n",
        "次のソースコードは、\"Hello world.\"という文字列の長さを出力するプログラムです。\n",
        "\n",
        "- ソースコードに「<font color=\"red\">**len関数**</font>」という命令が記述されています。len関数はPythonにあらかじめ用意された関数であり、()内に指定されたデータの長さを取得します。\n",
        "- len関数で求めた文字列の長さを、str_lenという変数に格納しています。\n",
        "- 変数str_lenに格納された値を、print関数で画面に出力しています。\n",
        "\n",
        "それでは、実際にプログラムを動かしてみましょう。"
      ],
      "metadata": {
        "id": "B6mko_J6iFg4"
      }
    },
    {
      "cell_type": "code",
      "source": [
        "str_len  = len(\"Hello, world.\")\n",
        "print(str_len)"
      ],
      "metadata": {
        "id": "WI4ANqAIvqZG"
      },
      "execution_count": null,
      "outputs": []
    },
    {
      "cell_type": "markdown",
      "source": [
        "## コメントを記述する\n",
        "プログラムには、コメントを記述することができます。コメントはプログラムを読みやすくするための記述であり、プログラムの動作には何の影響も与えません。\n",
        "\n",
        "### #によるコメント\n",
        "次のソースコードは、「変数を使用する」でご紹介したプログラムにコメントを追加したものです。\n",
        "\n",
        "- #で開始する行は、行末までがコメントとなります。複数行のコメントを記述したい場合は、それぞれの行の先頭に#を記述する必要があります。"
      ],
      "metadata": {
        "id": "0A9AU2LPF7y0"
      }
    },
    {
      "cell_type": "code",
      "source": [
        "# 変数に文字列を格納する\n",
        "AAA = \"Hello, world.\"\n",
        "\n",
        "# 変数に数値を格納する\n",
        "aaa = 10\n",
        "\n",
        "# 変数の値を画面に出力する\n",
        "# 変数名の大文字と小文字は区別されることに注意する\n",
        "print(AAA)\n",
        "print(aaa)"
      ],
      "metadata": {
        "id": "B47HO2NFwXVD"
      },
      "execution_count": null,
      "outputs": []
    },
    {
      "cell_type": "markdown",
      "source": [
        "プログラムを見た人が内容を理解しやすいよう、積極的にコメントを書くことを心がけましょう。\n",
        "\n",
        "### docstringによるコメント\n",
        "コメントには、#で開始するコメントのほかに、docstring(ドックストリング)というコメントも存在します。以下のソースコードは、docstringによるコメントを記述した例です。\n",
        "\n",
        "- docstringは、後述する自作関数・クラスなどの、仕様や利用方法を記述するのに使用します。\n",
        "- 関数やクラスの定義で、一番最初に記述した文字列は、docstringとなります。\n",
        "- docstringでは多くの情報を見やすく記載するため、、\"\"\"(ダブルクォート3つ)、または'''(シングルクォート3つ)で囲んだ文字列を記述することが多いです。\"Hello, world.\"のように1つのクォートで囲む場合、改行を含むには特殊な記述が必要です。3つのクォートで囲むと、改行をそのまま記述することができます。"
      ],
      "metadata": {
        "id": "yBbTItgMxDsD"
      }
    },
    {
      "cell_type": "code",
      "source": [
        "def remainder(v1, v2):\n",
        "    \"\"\"割り算の余りを求める関数です\n",
        "\n",
        "    Args:\n",
        "        v1 (int, float): 数値\n",
        "        v2 (int, float): 数値\n",
        "\n",
        "    Returns:\n",
        "        rem (int, float): 余り\n",
        "    \"\"\"\n",
        "    rem = v1 % v2\n",
        "    return rem"
      ],
      "metadata": {
        "id": "jYI1UAyAy8o_"
      },
      "execution_count": 46,
      "outputs": []
    },
    {
      "cell_type": "markdown",
      "source": [
        "【小ネタ】docstringは単にソースコードを読みやすくするだけではありません。最終回では皆さんに関数を作成していただきますが、ここでdocstringを書いておくと、help機能で自作関数を確認することができるのです！"
      ],
      "metadata": {
        "id": "4BPqt8PI1ID0"
      }
    },
    {
      "cell_type": "code",
      "source": [
        "help(remainder)"
      ],
      "metadata": {
        "id": "lGR2yma9Gfx8"
      },
      "execution_count": null,
      "outputs": []
    },
    {
      "cell_type": "markdown",
      "source": [
        "# 代表的なデータ型\n",
        "Pythonで扱うデータには、データの種類を示す「<font color=\"red\">**型(type)**</font>」という概念があります。\n",
        "\n",
        "【ワンポイント】「型」の判別は、データ構造化の作業では大変に重要な作業となります。例えば、「2」という数字があった場合を考えます。これはプログラムで認識させるときに「文字」としての\"2\"であるのか、整数としての\"2\"であるのか、あるいは小数としての\"2.0\"として処理をするのがよいか。それぞれによって、プログラムの内容も変わります。それを、Pythonに限らず各種のプログラミング言語においては「型」で判別をします。\n",
        "\n",
        "## 基本的なデータ型\n",
        "まずは基本的なデータ型として、次の表に示すデータ型を紹介します。\n",
        "\n",
        "| データ型 | Pythonプログラムでの表現 |\n",
        "| --- | --- |\n",
        "| 文字列 | str |\n",
        "| 整数 | int |\n",
        "| 浮動小数点数 | float |\n",
        "| 論理値 | bool |\n",
        "\n",
        "### 文字列(str)\n",
        "\"(ダブルクォート)または'(シングルクォート)で囲まれた値は、文字列となります。\n",
        "\n",
        "\n",
        "次のプログラムを実行して、データの型を確認しましょう。「<font color=\"red\">**type関数**</font>」は、指定したデータの型が何であるかを取得します。"
      ],
      "metadata": {
        "id": "ihRHbpMQI0T7"
      }
    },
    {
      "cell_type": "code",
      "source": [
        "# 文字列型の値を変数に格納する\n",
        "str_value = \"Hello, world.\"\n",
        "\n",
        "# データの型を取得する\n",
        "type(str_value)"
      ],
      "metadata": {
        "id": "KM-3VSZH2GnQ"
      },
      "execution_count": null,
      "outputs": []
    },
    {
      "cell_type": "markdown",
      "source": [
        "「docstringによるコメント」でご紹介したように、\"\"\"(ダブルクォート3つ)、または'''(シングルクォート3つ)で囲むと、文字列に改行などの特殊な文字をそのまま記述できます。"
      ],
      "metadata": {
        "id": "D5D_SJXDlY5q"
      }
    },
    {
      "cell_type": "code",
      "source": [
        "# 文字列型の値を変数に格納する\n",
        "str_value = \"\"\"Hello, world.\n",
        "Hello, python\"\"\"\n",
        "\n",
        "# 改行を含む文字列を出力する\n",
        "print(str_value)\n",
        "\n",
        "# データの型を取得する\n",
        "type(str_value)"
      ],
      "metadata": {
        "id": "MwB9a8Bilnbo"
      },
      "execution_count": null,
      "outputs": []
    },
    {
      "cell_type": "markdown",
      "source": [
        "<font color=\"red\">**【注意事項 (とても重要！)】**</font>\n",
        "\n",
        "上記のプログラムを実行すると、type関数の結果として「str」が画面に出力されました。実は、このようにtype関数の結果が画面に出力されるのは、Jupyter NotebookやGoogle Colaboratoryの独自機能によるものです。本来、type関数には画面に結果を出力する機能はありません。\n",
        "\n",
        "type関数だけでなく、Jupyter NotebookやGoogle Colaboratoryでは、print関数を使わなくても計算結果などを画面に表示してくれることがあります。しかし、これはあくまでエディタの補助的な機能によるもので、本来は<font color=\"red\">**データを画面に出力するときはprint関数を使用する**</font>ことを必ず覚えておいてください。本来、type関数の結果を画面に出力するには、次のように記述します。\n",
        "\n",
        "```\n",
        "print(type(str_value))\n",
        "```\n",
        "\n",
        "以降では、print関数をきちんと使って、ソースコードを記述しています。\n",
        "\n",
        "### 整数(int)\n",
        "- 整数を値として使用できます。\n",
        "- 次のプログラムを実行して、データの型を確認しましょう。"
      ],
      "metadata": {
        "id": "SWUrZkjx2-zR"
      }
    },
    {
      "cell_type": "code",
      "source": [
        "# 整数型の値を変数に格納する\n",
        "int_value = 10\n",
        "\n",
        "# データの型を取得する\n",
        "print(type(int_value))"
      ],
      "metadata": {
        "id": "KqhVtQBw3RIR"
      },
      "execution_count": null,
      "outputs": []
    },
    {
      "cell_type": "markdown",
      "source": [
        "- 上記は整数を10進数で記述しました。それ以外にも、2進数、8進数、16進数で記述することもできます。\n",
        "  - 先頭に「0b」または「0B」を付けると、2進数で記述できます。\n",
        "  - 先頭に「0o」または「0O」を付けると、8進数で記述できます。\n",
        "  - 先頭に「0x」または「0X」を付けると、16進数で記述できます。\n",
        "- それぞれの記述例を、次に示します。"
      ],
      "metadata": {
        "id": "l6wksDF93YhF"
      }
    },
    {
      "cell_type": "code",
      "source": [
        "# 2進数\n",
        "print(0b1011)\n",
        "\n",
        "# 8進数\n",
        "print(0o777)\n",
        "\n",
        "# 16進数\n",
        "print(0x1A)"
      ],
      "metadata": {
        "id": "Dxxpu2jIylTZ"
      },
      "execution_count": null,
      "outputs": []
    },
    {
      "cell_type": "markdown",
      "source": [
        "【ワンポイント】では、ここで次のようしたらどうなるでしょうか？"
      ],
      "metadata": {
        "id": "pQM30rlKLZGp"
      }
    },
    {
      "cell_type": "code",
      "source": [
        "int_value = \"10\"\n",
        "print(type(int_value))"
      ],
      "metadata": {
        "id": "Ts24UFNOLaa8"
      },
      "execution_count": null,
      "outputs": []
    },
    {
      "cell_type": "markdown",
      "source": [
        "同じ半角の10であっても、\"10\"とダブルクォートで囲むことで、文字列となりましたね。\n",
        "\n",
        "### 浮動小数点数(float)\n",
        "- 浮動小数点数を値として使用できます。\n",
        "- 次のプログラムを実行して、データの型を確認しましょう。"
      ],
      "metadata": {
        "id": "te8SHxHjyl1w"
      }
    },
    {
      "cell_type": "code",
      "source": [
        "# 浮動小数点数型の値を変数に格納する\n",
        "float_value = 3.14\n",
        "\n",
        "# データの型を取得する\n",
        "print(type(float_value))"
      ],
      "metadata": {
        "id": "5etvfDD63j97"
      },
      "execution_count": null,
      "outputs": []
    },
    {
      "cell_type": "markdown",
      "source": [
        "### 論理値(bool)\n",
        "- 論理値としてTrueまたはFalseのいずれかを値として使用できます。先頭のT、Fのみ大文字とする点に注意してください。\n",
        "- 次のプログラムを実行して、データの型を確認しましょう。"
      ],
      "metadata": {
        "id": "4JRxet664SgI"
      }
    },
    {
      "cell_type": "code",
      "source": [
        "bool_value = True\n",
        "\n",
        "# データの型を取得する\n",
        "print(type(bool_value))"
      ],
      "metadata": {
        "id": "zfH-wv_J4poU"
      },
      "execution_count": null,
      "outputs": []
    },
    {
      "cell_type": "markdown",
      "source": [
        "## 型の変換\n",
        "Pythonでは、データ型を変換する関数が用意されています。\n",
        "\n",
        "次のソースコードでは、「<font color=\"red\">**str関数**</font>」を使って整数型の値を文字列型に変換しています。"
      ],
      "metadata": {
        "id": "5Vm8e-MCy_Z4"
      }
    },
    {
      "cell_type": "code",
      "source": [
        "# 整数型の値を定義\n",
        "int_value = 100\n",
        "print(type(int_value))\n",
        "\n",
        "# str関数を使って整数型の100を文字列型\"100\"に変換する\n",
        "int_to_str = str(int_value)\n",
        "print(type(int_to_str))"
      ],
      "metadata": {
        "id": "vU07vbSczDRN"
      },
      "execution_count": null,
      "outputs": []
    },
    {
      "cell_type": "markdown",
      "source": [
        "次のソースコードでは、「<font color=\"red\">**int関数**</font>」を使って文字列型の値を整数型に変換しています。"
      ],
      "metadata": {
        "id": "W7qy9JLuZ-RI"
      }
    },
    {
      "cell_type": "code",
      "source": [
        "# 文字列型の値を定義\n",
        "str_value = \"999\"\n",
        "print(type(str_value))\n",
        "\n",
        "# int関数を使って文字列型の\"999\"を整数型999に変換する\n",
        "str_to_int = int(str_value)\n",
        "print(type(str_to_int))"
      ],
      "metadata": {
        "id": "MQAs9QFXYzLw"
      },
      "execution_count": null,
      "outputs": []
    },
    {
      "cell_type": "markdown",
      "source": [
        "str関数およびint関数以外にも、それぞれのデータ型に対応した変換用の関数が用意されています。"
      ],
      "metadata": {
        "id": "rF4h0bYFB_8F"
      }
    },
    {
      "cell_type": "markdown",
      "source": [
        "## 複数の値からなるデータ型\n",
        "次に、複数の値からなるデータ型として、次の表に示すデータ型を紹介します。\n",
        "\n",
        "| データ型 | Pythonプログラムでの表現 |\n",
        "| --- | --- |\n",
        "| リスト | list |\n",
        "| タプル | tuple |\n",
        "| 辞書 | dict |\n",
        "| 集合 | set |\n",
        "\n",
        "このようなデータ型は、「<font color=\"red\">**コンテナ型**</font>」とも呼ばれます。\n",
        "\n",
        "Pythonの入門書や、Python以前からあるプログラミング言語などでは、「配列」と呼ぶこともある内容で、データの格納方法を示す概念です。\n",
        "\n",
        "この中でも<font color=\"red\">**リスト**</font>と<font color=\"red\">**辞書**</font>はデータ構造化の中でも最も頻繁に使います。しっかりと理解をしましょう。\n",
        "\n",
        "### リスト(list)\n",
        "リストは、複数の値を順序付けられた一つのデータとして扱うことができます。\n",
        "\n",
        "- リストは、[値1,値2,値3,・・・]という形式で表現します。,(カンマ)の前後に空白を入れても構いません。\n",
        "- 値の重複を許可します。\n",
        "\n",
        "次のプログラムを実行して、データ内容と型を確認しましょう。"
      ],
      "metadata": {
        "id": "TH4MTSFuaQzo"
      }
    },
    {
      "cell_type": "code",
      "source": [
        "# リストを作成する 値が重複していてもよい\n",
        "num_list = [1, 3, 5, 5, 7]\n",
        "\n",
        "# リストの内容を画面に出力する\n",
        "print(num_list)\n",
        "\n",
        "# データの型を画面に出力する\n",
        "print(type(num_list))"
      ],
      "metadata": {
        "id": "CIKcNV2q-Ssf"
      },
      "execution_count": null,
      "outputs": []
    },
    {
      "cell_type": "markdown",
      "source": [
        "リストの値は、上記の整数型だけでなく、任意のデータ型とすることができます。次のソースコードは、様々なデータ型の値を持つリストの例です。\n",
        "\n",
        "- リストを値として持つリスト(入れ子のリスト)とすることもできます。\n",
        "- 1つのリスト内に複数のデータ型を混在させることもできます。よく理解して使えば便利な反面、きちんとしたドキュメントなどでの説明がないと、後に修復できないほどのエラーを生じさせる要因ともなります。気を付けましょう。"
      ],
      "metadata": {
        "id": "fbUbL0HX_eDz"
      }
    },
    {
      "cell_type": "code",
      "source": [
        "# 文字列型のリスト\n",
        "str_list = [\"Tokyo\", \"Osaka\", \"Nagoya\"]\n",
        "print(str_list)\n",
        "\n",
        "# リストのリスト(入れ子のリスト)\n",
        "list_list = [[1, 3], [5, 5, 7]]\n",
        "print(list_list)\n",
        "\n",
        "# 複数のデータ型が混在したリスト\n",
        "multi_list = [10, \"Tokyo\", True, [1, 3]]\n",
        "print(multi_list)"
      ],
      "metadata": {
        "id": "VzGgcnFq_5bP"
      },
      "execution_count": null,
      "outputs": []
    },
    {
      "cell_type": "markdown",
      "source": [
        "リストについては、第4回でも詳しく説明します。"
      ],
      "metadata": {
        "id": "ff9hNTogBC8x"
      }
    },
    {
      "cell_type": "markdown",
      "source": [
        "### タプル(tuple)\n",
        "タプルはリストと似ていますが、次の点が異なります。それ以外は、リストと同様に使用することができます。\n",
        "- タプルは、(値1,値2,値3,・・・)という形式で表現します。,(カンマ)の前後に空白を入れても構いません。\n",
        "- タプルを作成後、タプルに含まれる値を変更することができません。そのため、プログラムの不具合などによる意図しない変更を防ぐことができます。\n",
        "  - 【ご参考】このように、作成後に値を変更できない性質を「イミュータブル」といいます。逆に、リストのように作成後に値を変更することができる性質を「ミュータブル」と言います。\n",
        "- 同じ処理をリストとタプルで記述したケースを比較すると、基本的にタプルの方がプログラムの実行速度が速くなります。\n",
        "- このあとご紹介する「辞書」のキーとしてリストを使用することはできませんが、タプルは使用することができます。\n",
        "\n",
        "次のプログラムを実行して、データ内容と型を確認しましょう。"
      ],
      "metadata": {
        "id": "U0ll2edYlIgm"
      }
    },
    {
      "cell_type": "code",
      "source": [
        "# タプルを作成する。値の重複を許可する\n",
        "num_tuple = (0, 1, 2, 3, 4, 5, 6, 7)\n",
        "\n",
        "# タプルの内容を画面に出力する\n",
        "print(num_tuple)\n",
        "\n",
        "# データ型を確認する\n",
        "print(type(num_tuple))"
      ],
      "metadata": {
        "id": "ux6A0ZCyPSxt"
      },
      "execution_count": null,
      "outputs": []
    },
    {
      "cell_type": "markdown",
      "source": [
        "### 辞書(dict)\n",
        "辞書はキー(key)と値(value)のペアを複数集めたデータです。\n",
        "\n",
        "- 辞書は、{キー1:値1,キー2:値2,キー3:値3, ・・・}という形式で表現します。,(カンマ)や:(コロン)の前後に空白を入れても構いません。\n",
        "- キーには文字列以外にも何種類かの型を使用できますが、一般的には文字列を使用します。\n",
        "  - キーは、作成後に値を変更できない「イミュータブル」な性質を持ちます。\n",
        "- 値には、任意の型を使用できます。\n",
        "- 辞書に含まれるキーと値のペアには、順序(何番目のペア、などの概念)はありません。\n",
        "- 値の重複を許可しますが、キーの重複は許可しません。\n",
        "\n",
        "次のプログラムを実行して、データ内容と型を確認しましょう。"
      ],
      "metadata": {
        "id": "cxAiIbYUEBKV"
      }
    },
    {
      "cell_type": "code",
      "source": [
        "# 辞書を作成する\n",
        "mydict = {\"key1\": \"value1\", \"key2\": \"value2\", \"key3\": \"value3\"}\n",
        "\n",
        "# 辞書の内容を画面に出力する\n",
        "print(mydict)\n",
        "\n",
        "# データ型を確認する\n",
        "print(type(mydict))\n",
        "\n",
        "# キーや値には文字列以外のデータ型も使用できる\n",
        "multi_mydict = {\"key1\": \"value1\", 2: 10, \"key3\": [1, 2, 3]}\n",
        "print(multi_mydict)"
      ],
      "metadata": {
        "id": "0A6mmVe065U3"
      },
      "execution_count": null,
      "outputs": []
    },
    {
      "cell_type": "markdown",
      "source": [
        "【小ネタ】計測にかかるメタデータの構造化では、この辞書型を必須として使っています。例えばSEMのメタデータではkey='倍率'、value=10000といったように格納します。様式2で選定したメタデータは\n",
        "、ここで活用されます。\n",
        "\n",
        "辞書ついては、第4回でも詳しく説明します。"
      ],
      "metadata": {
        "id": "_zces1mnWRlX"
      }
    },
    {
      "cell_type": "markdown",
      "source": [
        "次のソースコードでは、タプルのところでご紹介したように、辞書のキーとしてタプルを使用しています。一方、辞書のキーとしてリストは使用できません。"
      ],
      "metadata": {
        "id": "Q_XgvHfqYjWF"
      }
    },
    {
      "cell_type": "code",
      "source": [
        "# 辞書を作成する\n",
        "mydict = {(\"key1-1\", \"key1-2\"): \"value1\", (\"key2-1\", \"key2-2\"): \"value2\"}\n",
        "\n",
        "# タプルの内容を画面に出力する\n",
        "print(mydict)"
      ],
      "metadata": {
        "id": "RBt5XPDdWRPL"
      },
      "execution_count": null,
      "outputs": []
    },
    {
      "cell_type": "markdown",
      "source": [
        "### 集合(set)\n",
        "集合は、値の集合を示すデータです。\n",
        "\n",
        "- 集合は、{値1,値2,値3,・・・}という形式で表現します。,(カンマ)の前後に空白を入れることもできます。\n",
        "- 集合に含まれる値には、順序(何番目の値、など)はありません。\n",
        "- 値の重複を許可しません。\n",
        "\n",
        "次のプログラムを実行して、データ内容と型を確認しましょう。"
      ],
      "metadata": {
        "id": "eim__C6m3ncj"
      }
    },
    {
      "cell_type": "code",
      "source": [
        "# 集合を作成する\n",
        "num_set = {1, 3, 5, 7}\n",
        "\n",
        "# 集合の内容を画面に出力する\n",
        "print(num_set)\n",
        "\n",
        "# データ型を確認する\n",
        "print(type(num_set))"
      ],
      "metadata": {
        "id": "77SG8HUyBBYF"
      },
      "execution_count": null,
      "outputs": []
    },
    {
      "cell_type": "markdown",
      "source": [
        "次のソースコードは、3つの集合の積を求めています。\n",
        "\n",
        "- 集合1&集合2&集合3・・・と記述すると、集合の積を求めることができます。&(アンド)の前後に半角空白を入れることもできます。\n"
      ],
      "metadata": {
        "id": "6SsitwyJEp4B"
      }
    },
    {
      "cell_type": "code",
      "source": [
        "# 3つの集合を作成する\n",
        "setA = {1, 2, 3, 4, 5, 6, 7, 8, 9, 10}\n",
        "setB = {2, 4, 6, 8, 10}\n",
        "setC = {1, 2, 4, 8}\n",
        "\n",
        "# 積集合を求める\n",
        "setP = setA & setB & setC\n",
        "\n",
        "# 求めた積集合を画面に出力する\n",
        "print(setP)"
      ],
      "metadata": {
        "id": "KUZ0vHHeb3Tx"
      },
      "execution_count": null,
      "outputs": []
    },
    {
      "cell_type": "markdown",
      "source": [
        "\n",
        "## 要素の数の数え方や選び方\n",
        "### 要素の数の数え方\n",
        "次のソースコードのように、len関数の引数に複数の値からなるデータ型のデータを指定すると、データに含まれる値の数を取得することができます。"
      ],
      "metadata": {
        "id": "Mb7pMK31lnuc"
      }
    },
    {
      "cell_type": "code",
      "source": [
        "# 値の数が5個のリストの長さを取得\n",
        "str_list = [\"Tokyo\", \"Osaka\", \"Nagoya\", \"Fukuoka\", \"Hokkaido\"]\n",
        "len_str_list = len(str_list)\n",
        "print(len_str_list)\n",
        "\n",
        "# 値の数が4個の辞書の長さを取得\n",
        "int_dict = {\"key1\": 1, \"key2\": 2, \"key3\": 3, \"key4\": 4}\n",
        "len_int_dict = len(int_dict)\n",
        "print(len_int_dict)\n",
        "\n",
        "# 値の数が3個のタプルの長さを取得\n",
        "int_tuple = (10, 20, 30)\n",
        "len_int_tuple = len(int_tuple)\n",
        "print(len_int_tuple)\n",
        "\n",
        "# 値の数が2個の集合の長さを取得\n",
        "int_set = {100, 200}\n",
        "len_int_set = len(int_set)\n",
        "print(len_int_set)"
      ],
      "metadata": {
        "id": "vox7rHnfBH2i"
      },
      "execution_count": null,
      "outputs": []
    },
    {
      "cell_type": "markdown",
      "source": [
        "## 要素の選び方 (任意の一つの値を取得)\n",
        "次のソースコードでは、リストに含まれる値のうち、任意の一つの値を取得しています。\n",
        "\n",
        "- リストから特定の1つの要素を取得する場合、リストに続く[]の中に、何番目の要素を取得するかを示す整数を記述します。\n",
        "- 何番目の要素かを示す整数は、0から始まる点に注意が必要です。\n",
        "- マイナスの整数を指定すると、「後ろから何番目」という意味になります。"
      ],
      "metadata": {
        "id": "z5ccfZBJC_B8"
      }
    },
    {
      "cell_type": "code",
      "source": [
        "# リストを作成\n",
        "# 0番目が\"Tokyo\"、1番目が\"Osaka\"、2番目が\"Nagoya\"となる点に注意\n",
        "str_list = [\"Tokyo\", \"Osaka\", \"Nagoya\"]\n",
        "\n",
        "# 2番目の要素を取得する\n",
        "print(str_list[2])\n",
        "\n",
        "# 後ろから2番目の要素を取得する\n",
        "# -3番目が\"Tokyo\"、-2番目が\"Osaka\"、-1番目が\"Nagoya\"となる\n",
        "print(str_list[-2])"
      ],
      "metadata": {
        "id": "JLBZLCc2DTbE"
      },
      "execution_count": null,
      "outputs": []
    },
    {
      "cell_type": "markdown",
      "source": [
        "タプルについても、リストと同じように値を取得できます。"
      ],
      "metadata": {
        "id": "Y_dsVkxdjAZk"
      }
    },
    {
      "cell_type": "code",
      "source": [
        "# タプルを作成\n",
        "str_tuple = (\"Tokyo\", \"Osaka\", \"Nagoya\")\n",
        "\n",
        "# 2番目の要素を取得する\n",
        "print(str_tuple[2])\n",
        "\n",
        "# 後ろから2番目の要素を取得する\n",
        "print(str_tuple[-2])"
      ],
      "metadata": {
        "id": "i6gC-9rPjE2p"
      },
      "execution_count": null,
      "outputs": []
    },
    {
      "cell_type": "markdown",
      "source": [
        "辞書には順序の考えがないため、このように順序指定により値を取得することはできません。\n",
        "\n",
        "辞書については、次のいずれかの方法で任意の一つの値を取得できます。\n",
        "\n",
        "- 辞書名に続く[]の中に、値を取り出したいキーを指定します。この場合、存在しないキーを指定するとプログラムがエラーとなります。\n",
        "- 辞書名.get(キー)と指定します。この場合、存在しないキーを指定すると、値がないことを示すNoneというものが取得されます。プログラムはエラーになりません。\n",
        "- 辞書名.get(キー, デフォルト値)と指定します。存在しないキーを指定すると、デフォルト値が取得できます。"
      ],
      "metadata": {
        "id": "AAqBCzf_hdav"
      }
    },
    {
      "cell_type": "code",
      "source": [
        "# 辞書を作成する\n",
        "str_dict = {\"key1\": \"value1\", \"key2\": \"value2\", \"key3\": \"value3\"}\n",
        "\n",
        "# キー\"key2\"に対応する値を取得する\n",
        "# 存在しないキーを指定するとプログラムがエラーとなる\n",
        "print(str_dict[\"key2\"])\n",
        "\n",
        "# get(キー)では存在しないキーを指定するとNoneとなる\n",
        "print(str_dict.get(\"key2\"))\n",
        "print(str_dict.get(\"keyX\"))\n",
        "\n",
        "# get(キー, デフォルト値)では存在しないキーを指定するとデフォルト値となる\n",
        "print(str_dict.get(\"key2\", \"default_value\"))\n",
        "print(str_dict.get(\"keyX\", \"default_value\"))"
      ],
      "metadata": {
        "id": "LilSd_Tvhozr"
      },
      "execution_count": null,
      "outputs": []
    },
    {
      "cell_type": "markdown",
      "source": [
        "## 要素の選び方 (スライス)\n",
        "次のソースコードは、リストのうち一部の要素を切り出した別のリストを取得しています。このような操作を「<font color=\"red\">**スライス**</font>」と呼びます。\n",
        "\n",
        "- スライスは、リストに続く[]の中に開始点や終了点などを整数で指定します。次のような指定ができます。\n",
        "  - リスト[X:Y]と指定すると、リストのX番目から(Y-1)番目までの要素を取得できます。\n",
        "  - リスト[X:]と指定すると、リストのX番目から最後までの要素を取得できます。\n",
        "  - リスト[:Y]と指定すると、リストの最初から(Y-1)番目までの要素を取得できます。\n",
        "  - リスト[X:Y:D]と指定すると、リストのX番目から(Y-1)番目までの要素をD個おきに取得できます。"
      ],
      "metadata": {
        "id": "0XIdc39OE1EX"
      }
    },
    {
      "cell_type": "code",
      "source": [
        "# リストを作成\n",
        "num_list = [0, 1, 2, 3, 4, 5, 6, 7]\n",
        "\n",
        "# リストの3番目から5番目までの値を取得\n",
        "# 5番目までの値を取得する場合は、終了点を6とする必要がある点に注意\n",
        "print(num_list[3:6])\n",
        "\n",
        "# リストの4番目から最後までの値を取得\n",
        "print(num_list[4:])\n",
        "\n",
        "# リストの最初から6番目までの値を取得\n",
        "# 6番目までの値を取得する場合は、終了点を7とする必要がある点に注意\n",
        "print(num_list[:7])\n",
        "\n",
        "# リストの1番目から5番目までの値を2個おきに取得\n",
        "# 5番目までの値を取得する場合は、終了点を6とする必要がある点に注意\n",
        "print(num_list[1:6:2])"
      ],
      "metadata": {
        "id": "ldvgZG_QJqMR"
      },
      "execution_count": null,
      "outputs": []
    },
    {
      "cell_type": "markdown",
      "source": [
        "タプルについても、リストと同じようにスライスを使用できます。"
      ],
      "metadata": {
        "id": "3DrWrJxij5gs"
      }
    },
    {
      "cell_type": "code",
      "source": [
        "# タプルを作成\n",
        "num_tuple = (0, 1, 2, 3, 4, 5, 6, 7)\n",
        "\n",
        "# タプルの3番目から5番目までの値を取得\n",
        "print(num_tuple[3:6])\n",
        "\n",
        "# タプルの4番目から最後までの値を取得\n",
        "print(num_tuple[4:])\n",
        "\n",
        "# タプルの最初から6番目までの値を取得\n",
        "print(num_tuple[:7])\n",
        "\n",
        "# タプルの1番目から5番目までの値を2個おきに取得\n",
        "print(num_tuple[1:6:2])"
      ],
      "metadata": {
        "id": "gC3RLVg5kHbW"
      },
      "execution_count": null,
      "outputs": []
    },
    {
      "cell_type": "markdown",
      "source": [
        "なお、集合については要素を選ぶ機能はありません。"
      ],
      "metadata": {
        "id": "piFXI3GVkenQ"
      }
    },
    {
      "cell_type": "markdown",
      "source": [
        "# 代表的な演算子\n",
        "Pythonでは、数値の四則演算をはじめとして、様々な演算子が用意されています。ここでは、よく使用する代表的な演算子を紹介します。\n",
        "\n",
        "## 算術演算子\n",
        "算術演算子として、次の演算子を使用できます。\n",
        "\n",
        "| 演算子 | 機能 |\n",
        "| --- | --- |\n",
        "| x + y | 加算 |\n",
        "| x - y | 減算 |\n",
        "| x * y | 乗算 |\n",
        "| x / y | 除算 |\n",
        "| x % y | xをyで割った余り |\n",
        "| x ** y | xのy乗 |\n",
        "| x // y | 切り捨て除算 |\n",
        "\n",
        "なお、()による計算順序の指定もできます。\n",
        "\n",
        "次のソースコードは、算術演算子を使用した計算プログラムの例です。\n",
        "\n",
        "- 算術演算子は2項演算子であり、「値1 演算子 値2」という形式で記述します。演算子の左右には半角空白を入れることができます。"
      ],
      "metadata": {
        "id": "ZaZ0OSiIb3vG"
      }
    },
    {
      "cell_type": "code",
      "source": [
        "int_num = 10\n",
        "\n",
        "# 5を加算\n",
        "print(int_num + 5)\n",
        "\n",
        "# 3で割った余り\n",
        "print(int_num % 3)\n",
        "\n",
        "# 2乗\n",
        "print(int_num ** 2)\n",
        "\n",
        "# ()を用いた計算順序の指定\n",
        "print((int_num + 5) * 10)"
      ],
      "metadata": {
        "id": "NTw7HJ9XGjkq"
      },
      "execution_count": null,
      "outputs": []
    },
    {
      "cell_type": "markdown",
      "source": [
        "整数型だけでなく、浮動小数点数型の計算にも使用できます。"
      ],
      "metadata": {
        "id": "V0u_p8WjZpnr"
      }
    },
    {
      "cell_type": "code",
      "source": [
        "float_num = 3.14\n",
        "\n",
        "# 浮動小数点数の乗算\n",
        "diameter = 1.5\n",
        "print(diameter * float_num)"
      ],
      "metadata": {
        "id": "bbHabyPQZv-T"
      },
      "execution_count": null,
      "outputs": []
    },
    {
      "cell_type": "markdown",
      "source": [
        "## 文字列演算子\n",
        "文字列演算子として、次の演算子を使用できます。\n",
        "\n",
        "| 演算子 | 機能 |\n",
        "| --- | --- |\n",
        "| s + t | 文字列sと文字列tを連結 |\n",
        "| s * t | 文字列sをt回繰り返す |\n",
        "\n",
        "次のソースコードは、文字列演算子を使用した計算プログラムの例です。\n",
        "\n",
        "- 文字列演算子は2項演算子であり、「値1 演算子 値2」という形式で記述します。演算子の左右には半角空白を入れることができます。"
      ],
      "metadata": {
        "id": "47JCxl_GG7tH"
      }
    },
    {
      "cell_type": "code",
      "source": [
        "# 文字列の連結\n",
        "print(\"abc\" + \"def\")\n",
        "\n",
        "# 文字列の繰り返し\n",
        "print(\"abc\" * 3)"
      ],
      "metadata": {
        "id": "HmDli19BIKgI"
      },
      "execution_count": null,
      "outputs": []
    },
    {
      "cell_type": "markdown",
      "source": [
        "\n",
        "\n",
        "【小ネタ】文字の足し算は、ファイルの出力のときに多用しています。例： \"sample\"という名前のファイル名を\".csv\"を付けてsaveするときは、(\"sample\"+\".csv\")とします。"
      ],
      "metadata": {
        "id": "tG1H-AVdIZUa"
      }
    },
    {
      "cell_type": "markdown",
      "source": [
        "## 代入演算子\n",
        "代入演算子として、次の演算子を使用できます。\n",
        "\n",
        "| 演算子 | 機能 |\n",
        "| --- | --- |\n",
        "| x = n | xにnを代入 |\n",
        "| x += n | x = x + nと同じ |\n",
        "| x -= n | x = x - nと同じ |\n",
        "| x *= n | x = x * nと同じ |\n",
        "| x /= n | x = x / nと同じ |\n",
        "| x %= n | x = x % nと同じ |\n",
        "| x **= n | x = x ** nと同じ |\n",
        "\n",
        "次のソースコードは、代入演算子を使用した計算プログラムの例です。\n",
        "- 代入演算子は、「変数名 演算子 代入する値」という形式で記述します。演算子の左右には半角空白を入れることができます。"
      ],
      "metadata": {
        "id": "6yDKkPNl38PK"
      }
    },
    {
      "cell_type": "code",
      "source": [
        "# =で代入\n",
        "x = 5\n",
        "print(x)\n",
        "\n",
        "# +=で代入\n",
        "# x = x + 10と同じ動作\n",
        "x += 10\n",
        "print(x)"
      ],
      "metadata": {
        "id": "X_auPd9POEJm"
      },
      "execution_count": null,
      "outputs": []
    },
    {
      "cell_type": "markdown",
      "source": [
        "\n",
        "## 比較演算子\n",
        "比較演算子として、次の演算子を使用できます。\n",
        "\n",
        "| 演算子 | 機能 |\n",
        "| --- | --- |\n",
        "| x == y | xがyと等しい(=が2つであることに注意) |\n",
        "| x != y | xがyと異なる |\n",
        "| x < y | xがyよりも小さい |\n",
        "| x > y | xがyよりも大きい |\n",
        "| x <= y | xがy以下である |\n",
        "| x >= y | xがy以上である |\n",
        "\n",
        "比較演算子は、比較結果が成り立つときに論理値のTrue、成り立たないときに論理値のFalseとなります。\n",
        "\n",
        "次のソースコードは、比較演算子による比較結果がTrueとなるかFalseとなるかを確認しています。"
      ],
      "metadata": {
        "id": "Le7Jhw3AOnFC"
      }
    },
    {
      "cell_type": "code",
      "source": [
        "num_value = 10\n",
        "\n",
        "# 比較結果が成り立つ例\n",
        "print(num_value == 10)\n",
        "\n",
        "# 比較結果が成り立たない例\n",
        "print(num_value != 10)"
      ],
      "metadata": {
        "id": "ml5c83HNRzZg"
      },
      "execution_count": null,
      "outputs": []
    },
    {
      "cell_type": "markdown",
      "source": [
        "なお、==および!=と似ている比較演算子として、次の比較演算子もあります。\n",
        "\n",
        "| 演算子 | 機能 |\n",
        "| --- | --- |\n",
        "| x is y | xがyと等しい |\n",
        "| x is not y | xがyと異なる |\n",
        "\n",
        "これらの演算子は、==および!=と厳密には同じではありません。次のソースコードを実行してみましょう。"
      ],
      "metadata": {
        "id": "W3BAL6R9gM-w"
      }
    },
    {
      "cell_type": "code",
      "source": [
        "# 内容が同じ2つのリストを作成\n",
        "list1 = [1, 2, 3]\n",
        "list2 = [1, 2, 3]\n",
        "\n",
        "# ==とisそれぞれを用いて比較\n",
        "print(list1 == list2)\n",
        "print(list1 is list2)"
      ],
      "metadata": {
        "id": "L1uhPWAsge2s"
      },
      "execution_count": null,
      "outputs": []
    },
    {
      "cell_type": "markdown",
      "source": [
        "- ここでは詳しくは説明しませんが、別々に作成した2つのリストは、中に含まれる値が同じであってもPythonの中では別のデータとして管理されています。\n",
        "- ==はリストに含まれる値しか比較しませんが、isはPythonの中で同じデータとして扱われているかを比較します。\n",
        "- 今のところは、isおよびis notではなく、==および!=を使って等しい・等しくないの判定を行うようにしましょう。\n",
        "\n",
        "比較演算子として、次のような演算子も使用できます。\n",
        "\n",
        "| 演算子 | 機能 |\n",
        "| --- | --- |\n",
        "| x in y | xがyに含まれる |\n",
        "| x not in y | xがyに含まれない |\n",
        "\n",
        "使用例として、次のソースコードのように、リスト中にある値が含まれるかどうかを判定できます。\n",
        "\n"
      ],
      "metadata": {
        "id": "ifgZNNuYSk7f"
      }
    },
    {
      "cell_type": "code",
      "source": [
        "list1 = [1, 2, 3]\n",
        "\n",
        "# list1の値に2が含まれるか\n",
        "print(2 in list1)\n",
        "\n",
        "# list1の値に5が含まれるか\n",
        "print(5 in list1)\n",
        "\n",
        "# list1の値に2が含まれないか\n",
        "print(2 not in list1)\n",
        "\n",
        "# list1の値に5が含まれないか\n",
        "print(5 not in list1)"
      ],
      "metadata": {
        "id": "EpvoZnuV1F8C"
      },
      "execution_count": null,
      "outputs": []
    },
    {
      "cell_type": "markdown",
      "source": [
        "inおよびnot inは、文字列の操作にも使用でき来ます。詳細は、第2回の「文字列の操作」で紹介します。\n",
        "\n",
        "また、比較演算子のより具体的な使用例は、第2回の「代表的な制御構文」でご説明します。\n",
        "\n",
        "## ブール演算子\n",
        "ブール演算子として、次の演算子を使用できます。\n",
        "\n",
        "| 演算子 | 機能 |\n",
        "| --- | --- |\n",
        "| x and y | xもyもTrueであればTrue |\n",
        "| x or y | xまたはyがTrueであればTrue |\n",
        "| not x | xがFalseであればTrue |\n",
        "\n",
        "ブール演算子は、比較演算子と組み合わせて複雑な条件比較を行うことなどに使用します。次のソースコードは、比較演算子とブール演算子を組み合わせて、結果がTrueとなるかFalseとなるかを確認しています。"
      ],
      "metadata": {
        "id": "AelTwuFq1GNo"
      }
    },
    {
      "cell_type": "code",
      "source": [
        "num_value = 10\n",
        "str_value = \"abc\"\n",
        "\n",
        "# 比較結果が成り立つ例\n",
        "print(num_value == 10 and str_value == \"abc\")\n",
        "print(not num_value == 20)\n",
        "\n",
        "# 比較結果が成り立たない例\n",
        "print(num_value != 10 and str_value == \"abc\")\n",
        "print(num_value == 20 or str_value == \"def\")"
      ],
      "metadata": {
        "id": "XDhDrX7tdDTf"
      },
      "execution_count": null,
      "outputs": []
    },
    {
      "cell_type": "markdown",
      "source": [
        "第1回の講義は、ここまでとなります。次回は、次の内容をご紹介します。\n",
        "\n",
        "- 代表的な制御構文\n",
        "- 文字列の操作\n",
        "- 予約語\n",
        "- 関数とメソッド\n",
        "- 例外\n",
        "- 注意すべき用語"
      ],
      "metadata": {
        "id": "Tmv0aLVBtSRW"
      }
    }
  ]
}